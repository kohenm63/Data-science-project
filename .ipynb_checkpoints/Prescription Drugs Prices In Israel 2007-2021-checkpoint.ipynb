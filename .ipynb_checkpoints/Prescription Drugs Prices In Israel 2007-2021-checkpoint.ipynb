{
 "cells": [
  {
   "cell_type": "markdown",
   "id": "52366193",
   "metadata": {},
   "source": [
    "# Data loading: \n",
    "\n",
    "Load the data from the file or database where it's stored. In Python, you can use libraries like pandas to load data from a variety of sources."
   ]
  },
  {
   "cell_type": "code",
   "execution_count": 13,
   "id": "3f3913d5-3152-4206-a98a-6fa4ac52e2fd",
   "metadata": {},
   "outputs": [
    {
     "data": {
      "text/html": [
       "<div>\n",
       "<style scoped>\n",
       "    .dataframe tbody tr th:only-of-type {\n",
       "        vertical-align: middle;\n",
       "    }\n",
       "\n",
       "    .dataframe tbody tr th {\n",
       "        vertical-align: top;\n",
       "    }\n",
       "\n",
       "    .dataframe thead th {\n",
       "        text-align: right;\n",
       "    }\n",
       "</style>\n",
       "<table border=\"1\" class=\"dataframe\">\n",
       "  <thead>\n",
       "    <tr style=\"text-align: right;\">\n",
       "      <th></th>\n",
       "      <th>Medication_Name</th>\n",
       "      <th>Package_Size</th>\n",
       "      <th>Max_Retailer_Price</th>\n",
       "      <th>Max_Consumer_Price</th>\n",
       "      <th>Max_Consumer_VAT_Price</th>\n",
       "      <th>Year</th>\n",
       "    </tr>\n",
       "  </thead>\n",
       "  <tbody>\n",
       "    <tr>\n",
       "      <th>0</th>\n",
       "      <td>ABBOSYNAGIS 100MG PUL FOR INJ+SOLV</td>\n",
       "      <td>1.0</td>\n",
       "      <td>6022.540139</td>\n",
       "      <td>7076.484664</td>\n",
       "      <td>8173.339786</td>\n",
       "      <td>2007</td>\n",
       "    </tr>\n",
       "    <tr>\n",
       "      <th>1</th>\n",
       "      <td>ABBOSYNAGIS 50MG PUL FOR INJ+SOLV</td>\n",
       "      <td>1.0</td>\n",
       "      <td>3584.941821</td>\n",
       "      <td>4212.306640</td>\n",
       "      <td>4865.214169</td>\n",
       "      <td>2007</td>\n",
       "    </tr>\n",
       "    <tr>\n",
       "      <th>2</th>\n",
       "      <td>ABITREN 100MG 10 SR TAB</td>\n",
       "      <td>10.0</td>\n",
       "      <td>13.581967</td>\n",
       "      <td>18.607294</td>\n",
       "      <td>21.491425</td>\n",
       "      <td>2007</td>\n",
       "    </tr>\n",
       "    <tr>\n",
       "      <th>3</th>\n",
       "      <td>ABITREN 100MG 20 SR TAB</td>\n",
       "      <td>20.0</td>\n",
       "      <td>27.163933</td>\n",
       "      <td>37.214589</td>\n",
       "      <td>42.982850</td>\n",
       "      <td>2007</td>\n",
       "    </tr>\n",
       "    <tr>\n",
       "      <th>4</th>\n",
       "      <td>ABITREN 25MG 20TAB</td>\n",
       "      <td>20.0</td>\n",
       "      <td>5.076567</td>\n",
       "      <td>6.954896</td>\n",
       "      <td>8.032905</td>\n",
       "      <td>2007</td>\n",
       "    </tr>\n",
       "  </tbody>\n",
       "</table>\n",
       "</div>"
      ],
      "text/plain": [
       "                      Medication_Name  Package_Size  Max_Retailer_Price  \\\n",
       "0  ABBOSYNAGIS 100MG PUL FOR INJ+SOLV           1.0         6022.540139   \n",
       "1   ABBOSYNAGIS 50MG PUL FOR INJ+SOLV           1.0         3584.941821   \n",
       "2             ABITREN 100MG 10 SR TAB          10.0           13.581967   \n",
       "3             ABITREN 100MG 20 SR TAB          20.0           27.163933   \n",
       "4                  ABITREN 25MG 20TAB          20.0            5.076567   \n",
       "\n",
       "   Max_Consumer_Price  Max_Consumer_VAT_Price  Year  \n",
       "0         7076.484664             8173.339786  2007  \n",
       "1         4212.306640             4865.214169  2007  \n",
       "2           18.607294               21.491425  2007  \n",
       "3           37.214589               42.982850  2007  \n",
       "4            6.954896                8.032905  2007  "
      ]
     },
     "execution_count": 13,
     "metadata": {},
     "output_type": "execute_result"
    }
   ],
   "source": [
    "import pandas as pd\n",
    "\n",
    "df = pd.read_csv('data.csv') # load data \n",
    "\n",
    "df.head() # This will show us our dataframe."
   ]
  },
  {
   "cell_type": "markdown",
   "id": "ea051b84",
   "metadata": {},
   "source": [
    "# Data exploration:\n",
    "\n",
    " Check the first few rows of your dataset, list the columns, check the data types of each column, and get the shape of the dataset."
   ]
  },
  {
   "cell_type": "code",
   "execution_count": 20,
   "id": "5b4197ea",
   "metadata": {},
   "outputs": [
    {
     "data": {
      "text/plain": [
       "(2041, 6)"
      ]
     },
     "execution_count": 20,
     "metadata": {},
     "output_type": "execute_result"
    }
   ],
   "source": [
    "\n",
    "df.shape # number of columns and number of rows\n"
   ]
  },
  {
   "cell_type": "code",
   "execution_count": 19,
   "id": "ad5b2376",
   "metadata": {},
   "outputs": [
    {
     "data": {
      "text/plain": [
       "Index(['Medication_Name', 'Package_Size', 'Max_Retailer_Price',\n",
       "       'Max_Consumer_Price', 'Max_Consumer_VAT_Price', 'Year'],\n",
       "      dtype='object')"
      ]
     },
     "execution_count": 19,
     "metadata": {},
     "output_type": "execute_result"
    }
   ],
   "source": [
    "df.columns # access the column names directly with the columns attribute."
   ]
  },
  {
   "cell_type": "code",
   "execution_count": 17,
   "id": "9a8688d4",
   "metadata": {},
   "outputs": [
    {
     "data": {
      "text/plain": [
       "Medication_Name            object\n",
       "Package_Size              float64\n",
       "Max_Retailer_Price        float64\n",
       "Max_Consumer_Price        float64\n",
       "Max_Consumer_VAT_Price    float64\n",
       "Year                        int64\n",
       "dtype: object"
      ]
     },
     "execution_count": 17,
     "metadata": {},
     "output_type": "execute_result"
    }
   ],
   "source": [
    "df.dtypes \n"
   ]
  },
  {
   "cell_type": "markdown",
   "id": "7024086f",
   "metadata": {},
   "source": [
    "# Missing Values and Junk Data"
   ]
  },
  {
   "cell_type": "code",
   "execution_count": 29,
   "id": "210dcb15",
   "metadata": {},
   "outputs": [
    {
     "data": {
      "text/html": [
       "<div>\n",
       "<style scoped>\n",
       "    .dataframe tbody tr th:only-of-type {\n",
       "        vertical-align: middle;\n",
       "    }\n",
       "\n",
       "    .dataframe tbody tr th {\n",
       "        vertical-align: top;\n",
       "    }\n",
       "\n",
       "    .dataframe thead th {\n",
       "        text-align: right;\n",
       "    }\n",
       "</style>\n",
       "<table border=\"1\" class=\"dataframe\">\n",
       "  <thead>\n",
       "    <tr style=\"text-align: right;\">\n",
       "      <th></th>\n",
       "      <th>Medication_Name</th>\n",
       "      <th>Package_Size</th>\n",
       "      <th>Max_Retailer_Price</th>\n",
       "      <th>Max_Consumer_Price</th>\n",
       "      <th>Max_Consumer_VAT_Price</th>\n",
       "      <th>Year</th>\n",
       "    </tr>\n",
       "  </thead>\n",
       "  <tbody>\n",
       "    <tr>\n",
       "      <th>0</th>\n",
       "      <td>False</td>\n",
       "      <td>False</td>\n",
       "      <td>False</td>\n",
       "      <td>False</td>\n",
       "      <td>False</td>\n",
       "      <td>False</td>\n",
       "    </tr>\n",
       "    <tr>\n",
       "      <th>1</th>\n",
       "      <td>False</td>\n",
       "      <td>False</td>\n",
       "      <td>False</td>\n",
       "      <td>False</td>\n",
       "      <td>False</td>\n",
       "      <td>False</td>\n",
       "    </tr>\n",
       "    <tr>\n",
       "      <th>2</th>\n",
       "      <td>False</td>\n",
       "      <td>False</td>\n",
       "      <td>False</td>\n",
       "      <td>False</td>\n",
       "      <td>False</td>\n",
       "      <td>False</td>\n",
       "    </tr>\n",
       "    <tr>\n",
       "      <th>3</th>\n",
       "      <td>False</td>\n",
       "      <td>False</td>\n",
       "      <td>False</td>\n",
       "      <td>False</td>\n",
       "      <td>False</td>\n",
       "      <td>False</td>\n",
       "    </tr>\n",
       "    <tr>\n",
       "      <th>4</th>\n",
       "      <td>False</td>\n",
       "      <td>False</td>\n",
       "      <td>False</td>\n",
       "      <td>False</td>\n",
       "      <td>False</td>\n",
       "      <td>False</td>\n",
       "    </tr>\n",
       "    <tr>\n",
       "      <th>...</th>\n",
       "      <td>...</td>\n",
       "      <td>...</td>\n",
       "      <td>...</td>\n",
       "      <td>...</td>\n",
       "      <td>...</td>\n",
       "      <td>...</td>\n",
       "    </tr>\n",
       "    <tr>\n",
       "      <th>2036</th>\n",
       "      <td>False</td>\n",
       "      <td>False</td>\n",
       "      <td>False</td>\n",
       "      <td>False</td>\n",
       "      <td>False</td>\n",
       "      <td>False</td>\n",
       "    </tr>\n",
       "    <tr>\n",
       "      <th>2037</th>\n",
       "      <td>False</td>\n",
       "      <td>False</td>\n",
       "      <td>False</td>\n",
       "      <td>False</td>\n",
       "      <td>False</td>\n",
       "      <td>False</td>\n",
       "    </tr>\n",
       "    <tr>\n",
       "      <th>2038</th>\n",
       "      <td>False</td>\n",
       "      <td>False</td>\n",
       "      <td>False</td>\n",
       "      <td>False</td>\n",
       "      <td>False</td>\n",
       "      <td>False</td>\n",
       "    </tr>\n",
       "    <tr>\n",
       "      <th>2039</th>\n",
       "      <td>False</td>\n",
       "      <td>False</td>\n",
       "      <td>False</td>\n",
       "      <td>False</td>\n",
       "      <td>False</td>\n",
       "      <td>False</td>\n",
       "    </tr>\n",
       "    <tr>\n",
       "      <th>2040</th>\n",
       "      <td>False</td>\n",
       "      <td>False</td>\n",
       "      <td>False</td>\n",
       "      <td>False</td>\n",
       "      <td>False</td>\n",
       "      <td>False</td>\n",
       "    </tr>\n",
       "  </tbody>\n",
       "</table>\n",
       "<p>2041 rows × 6 columns</p>\n",
       "</div>"
      ],
      "text/plain": [
       "      Medication_Name  Package_Size  Max_Retailer_Price  Max_Consumer_Price  \\\n",
       "0               False         False               False               False   \n",
       "1               False         False               False               False   \n",
       "2               False         False               False               False   \n",
       "3               False         False               False               False   \n",
       "4               False         False               False               False   \n",
       "...               ...           ...                 ...                 ...   \n",
       "2036            False         False               False               False   \n",
       "2037            False         False               False               False   \n",
       "2038            False         False               False               False   \n",
       "2039            False         False               False               False   \n",
       "2040            False         False               False               False   \n",
       "\n",
       "      Max_Consumer_VAT_Price   Year  \n",
       "0                      False  False  \n",
       "1                      False  False  \n",
       "2                      False  False  \n",
       "3                      False  False  \n",
       "4                      False  False  \n",
       "...                      ...    ...  \n",
       "2036                   False  False  \n",
       "2037                   False  False  \n",
       "2038                   False  False  \n",
       "2039                   False  False  \n",
       "2040                   False  False  \n",
       "\n",
       "[2041 rows x 6 columns]"
      ]
     },
     "execution_count": 29,
     "metadata": {},
     "output_type": "execute_result"
    }
   ],
   "source": [
    "df.isna()\n"
   ]
  },
  {
   "cell_type": "markdown",
   "id": "c9b77f4b",
   "metadata": {},
   "source": [
    "# Data cleaning: Handle missing values, duplicates, and incorrect data types."
   ]
  },
  {
   "cell_type": "code",
   "execution_count": 31,
   "id": "80b91794",
   "metadata": {},
   "outputs": [],
   "source": [
    "clean_data = df.dropna() # Drop rows with missing values\n",
    "no_duplicates = df.drop_duplicates() # Drop duplicate rows"
   ]
  },
  {
   "cell_type": "markdown",
   "id": "04251eb1",
   "metadata": {},
   "source": [
    "Descriptive statistics: Use methods like .describe() to get a summary of the numeric columns. You can also check the distribution of categorical variables using .value_counts()."
   ]
  },
  {
   "cell_type": "code",
   "execution_count": 34,
   "id": "d8e8411d",
   "metadata": {},
   "outputs": [
    {
     "data": {
      "text/plain": [
       "0       ABBOSYNAGIS 100MG PUL FOR INJ+SOLV\n",
       "1        ABBOSYNAGIS 50MG PUL FOR INJ+SOLV\n",
       "2                  ABITREN 100MG 10 SR TAB\n",
       "3                  ABITREN 100MG 20 SR TAB\n",
       "4                       ABITREN 25MG 20TAB\n",
       "                       ...                \n",
       "2036                      ZYPREXA INJ 10MG\n",
       "2037            ZYPREXA VELOTAB 10MG 28TAB\n",
       "2038            ZYPREXA VELOTAB 15MG 28TAB\n",
       "2039             ZYPREXA VELOTAB 5MG 28TAB\n",
       "2040                     ZYVOX 600MG 10TAB\n",
       "Name: Medication_Name, Length: 1852, dtype: object"
      ]
     },
     "execution_count": 34,
     "metadata": {},
     "output_type": "execute_result"
    }
   ],
   "source": [
    "clean_data['Medication_Name']"
   ]
  },
  {
   "cell_type": "code",
   "execution_count": 38,
   "id": "b0b557d3",
   "metadata": {},
   "outputs": [
    {
     "data": {
      "text/html": [
       "<div>\n",
       "<style scoped>\n",
       "    .dataframe tbody tr th:only-of-type {\n",
       "        vertical-align: middle;\n",
       "    }\n",
       "\n",
       "    .dataframe tbody tr th {\n",
       "        vertical-align: top;\n",
       "    }\n",
       "\n",
       "    .dataframe thead th {\n",
       "        text-align: right;\n",
       "    }\n",
       "</style>\n",
       "<table border=\"1\" class=\"dataframe\">\n",
       "  <thead>\n",
       "    <tr style=\"text-align: right;\">\n",
       "      <th></th>\n",
       "      <th>Medication_Name</th>\n",
       "      <th>Max_Retailer_Price_Max</th>\n",
       "      <th>Max_Retailer_Price_Min</th>\n",
       "    </tr>\n",
       "  </thead>\n",
       "  <tbody>\n",
       "    <tr>\n",
       "      <th>0</th>\n",
       "      <td>A-PARKIN 100MG 100TAB</td>\n",
       "      <td>52.942024</td>\n",
       "      <td>52.942024</td>\n",
       "    </tr>\n",
       "    <tr>\n",
       "      <th>1</th>\n",
       "      <td>ABBOSYNAGIS 100MG PUL FOR INJ+SOLV</td>\n",
       "      <td>6022.540139</td>\n",
       "      <td>6022.540139</td>\n",
       "    </tr>\n",
       "    <tr>\n",
       "      <th>2</th>\n",
       "      <td>ABBOSYNAGIS 50MG PUL FOR INJ+SOLV</td>\n",
       "      <td>3584.941821</td>\n",
       "      <td>3584.941821</td>\n",
       "    </tr>\n",
       "    <tr>\n",
       "      <th>3</th>\n",
       "      <td>ABITREN 100MG 10 SR TAB</td>\n",
       "      <td>13.581967</td>\n",
       "      <td>13.581967</td>\n",
       "    </tr>\n",
       "    <tr>\n",
       "      <th>4</th>\n",
       "      <td>ABITREN 100MG 20 SR TAB</td>\n",
       "      <td>27.163933</td>\n",
       "      <td>27.163933</td>\n",
       "    </tr>\n",
       "  </tbody>\n",
       "</table>\n",
       "</div>"
      ],
      "text/plain": [
       "                      Medication_Name  Max_Retailer_Price_Max  \\\n",
       "0               A-PARKIN 100MG 100TAB               52.942024   \n",
       "1  ABBOSYNAGIS 100MG PUL FOR INJ+SOLV             6022.540139   \n",
       "2   ABBOSYNAGIS 50MG PUL FOR INJ+SOLV             3584.941821   \n",
       "3             ABITREN 100MG 10 SR TAB               13.581967   \n",
       "4             ABITREN 100MG 20 SR TAB               27.163933   \n",
       "\n",
       "   Max_Retailer_Price_Min  \n",
       "0               52.942024  \n",
       "1             6022.540139  \n",
       "2             3584.941821  \n",
       "3               13.581967  \n",
       "4               27.163933  "
      ]
     },
     "execution_count": 38,
     "metadata": {},
     "output_type": "execute_result"
    }
   ],
   "source": [
    "import pandas as pd\n",
    "\n",
    "# Assuming your data is stored in a DataFrame named df\n",
    "max_retailer_prices = df.groupby('Medication_Name')['Max_Retailer_Price'].max()\n",
    "min_retailer_prices = df.groupby('Medication_Name')['Max_Retailer_Price'].min()\n",
    "\n",
    "# Combine the results into a new DataFrame\n",
    "result_df = pd.DataFrame({\n",
    "    'Medication_Name': max_retailer_prices.index,\n",
    "    'Max_Retailer_Price_Max': max_retailer_prices.values,\n",
    "    'Max_Retailer_Price_Min': min_retailer_prices.values\n",
    "})\n",
    "\n",
    "# Display the result\n",
    "result_df.head()\n"
   ]
  },
  {
   "cell_type": "markdown",
   "id": "8c38493e",
   "metadata": {},
   "source": [
    "# Medication Pricing:\n",
    "\n",
    "What is the distribution of max consumer prices for medications?\n",
    "How does the max retailer price compare to the max consumer price for different medications?\n",
    "Are there medications with significant differences between the max consumer price and the max consumer VAT price?"
   ]
  },
  {
   "cell_type": "markdown",
   "id": "9c1cc774",
   "metadata": {},
   "source": [
    "# What is the distribution of max consumer prices for medications?"
   ]
  },
  {
   "cell_type": "code",
   "execution_count": 39,
   "id": "d95791d6",
   "metadata": {},
   "outputs": [
    {
     "data": {
      "image/png": "[encoded data removed]",
      "text/plain": [
       "<Figure size 1000x600 with 1 Axes>"
      ]
     },
     "metadata": {},
     "output_type": "display_data"
    }
   ],
   "source": [
    "import matplotlib.pyplot as plt\n",
    "\n",
    "# 'df' is my DataFrame and 'Max_Consumer_Price' is the column name\n",
    "max_consumer_prices = df['Max_Consumer_Price']\n",
    "\n",
    "plt.figure(figsize=(10, 6))\n",
    "plt.hist(max_consumer_prices, bins=20, color='skyblue', edgecolor='black')\n",
    "plt.xlabel('Max Consumer Price')\n",
    "plt.ylabel('Frequency')\n",
    "plt.title('Distribution of Max Consumer Prices for Medications')\n",
    "plt.grid(True)\n",
    "plt.show()\n"
   ]
  },
  {
   "cell_type": "markdown",
   "id": "2c625c80",
   "metadata": {},
   "source": [
    "How does the max retailer price compare to the max consumer price for different medications?\n",
    "\n"
   ]
  },
  {
   "cell_type": "code",
   "execution_count": 40,
   "id": "28a15e94",
   "metadata": {},
   "outputs": [
    {
     "data": {
      "image/png": "[encoded data removed]",
      "text/plain": [
       "<Figure size 1000x600 with 1 Axes>"
      ]
     },
     "metadata": {},
     "output_type": "display_data"
    }
   ],
   "source": [
    "import matplotlib.pyplot as plt\n",
    "\n",
    "# Assuming 'data' is your DataFrame\n",
    "max_retailer_prices = df['Max_Retailer_Price']\n",
    "max_consumer_prices = df['Max_Consumer_Price']\n",
    "\n",
    "plt.figure(figsize=(10, 6))\n",
    "plt.scatter(max_retailer_prices, max_consumer_prices, color='blue', alpha=0.7)\n",
    "plt.xlabel('Max Retailer Price')\n",
    "plt.ylabel('Max Consumer Price')\n",
    "plt.title('Max Retailer Price vs Max Consumer Price for Medications')\n",
    "plt.grid(True)\n",
    "plt.show()\n"
   ]
  },
  {
   "cell_type": "markdown",
   "id": "4b1cfd55",
   "metadata": {},
   "source": [
    "## calculating the correlation coefficient between max retailer prices and max consumer prices"
   ]
  },
  {
   "cell_type": "code",
   "execution_count": 2,
   "id": "72391e2f",
   "metadata": {},
   "outputs": [
    {
     "name": "stdout",
     "output_type": "stream",
     "text": [
      "Pearson Correlation Coefficient: 0.9999984381186638\n"
     ]
    }
   ],
   "source": [
    "import pandas as pd\n",
    "\n",
    "df = pd.read_csv('data.csv') # load data \n",
    "\n",
    "\n",
    "max_retailer_prices = df['Max_Retailer_Price']\n",
    "max_consumer_prices = df['Max_Consumer_Price']\n",
    "\n",
    "#  we use the Pearson correlation coefficient. The Pearson correlation coefficient measures the\n",
    "#  linear relationship between two variables. In this case,\n",
    "#  it will indicate how closely the max retailer prices and max consumer prices are related.\n",
    "\n",
    "correlation_coefficient = max_retailer_prices.corr(max_consumer_prices) \n",
    "\n",
    "print(\"Pearson Correlation Coefficient:\", correlation_coefficient)\n"
   ]
  },
  {
   "cell_type": "markdown",
   "id": "ad06d7f1",
   "metadata": {},
   "source": [
    "there is a very strong positive relationship between max retailer prices and max consumer prices. When retailers charge more for a medication, consumers are generally also asked to pay more for it."
   ]
  },
  {
   "cell_type": "markdown",
   "id": "ae97c852",
   "metadata": {},
   "source": [
    "### identify medications with significant differences between the max consumer price and the max consumer VAT (Value Added Tax) price"
   ]
  },
  {
   "cell_type": "code",
   "execution_count": 3,
   "id": "c862c4c5",
   "metadata": {},
   "outputs": [
    {
     "data": {
      "image/png": "[encoded data removed]",
      "text/plain": [
       "<Figure size 1000x600 with 1 Axes>"
      ]
     },
     "metadata": {},
     "output_type": "display_data"
    }
   ],
   "source": [
    "import pandas as pd\n",
    "import matplotlib.pyplot as plt\n",
    "\n",
    "#  'df' is DataFrame\n",
    "df['Price_Difference'] = df['Max_Consumer_Price'] - df['Max_Consumer_VAT_Price']\n",
    "price_differences = df['Price_Difference']\n",
    "\n",
    "plt.figure(figsize=(10, 6))\n",
    "plt.hist(price_differences, bins=20, color='green', edgecolor='black')\n",
    "plt.xlabel('Price Difference (Max Consumer - Max Consumer VAT)')\n",
    "plt.ylabel('Frequency')\n",
    "plt.title('Distribution of Price Differences for Medications')\n",
    "plt.grid(True)\n",
    "plt.show()\n",
    "\n"
   ]
  },
  {
   "cell_type": "markdown",
   "id": "074ea7ae",
   "metadata": {},
   "source": [
    "#### Identify Medications with Significant Differences:\n"
   ]
  },
  {
   "cell_type": "code",
   "execution_count": 4,
   "id": "9538e8d8",
   "metadata": {},
   "outputs": [
    {
     "name": "stdout",
     "output_type": "stream",
     "text": [
      "Medication with Highest Positive Price Difference:\n",
      "       Medication_Name  Package_Size  Max_Retailer_Price  Max_Consumer_Price  \\\n",
      "149  ASSIVAL 2MG 30TAB          30.0            3.627893            4.970213   \n",
      "\n",
      "     Max_Consumer_VAT_Price  Year  Price_Difference  \n",
      "149                5.740596  2007         -0.770383  \n",
      "\n",
      "Medication with Highest Negative Price Difference:\n",
      "                 Medication_Name  Package_Size  Max_Retailer_Price  \\\n",
      "1995  ZEVALIN 1.6MG/ML  COLD KIT           1.0        66550.737284   \n",
      "\n",
      "      Max_Consumer_Price  Max_Consumer_VAT_Price  Year  Price_Difference  \n",
      "1995        78197.116309            90317.669336  2007     -12120.553028  \n"
     ]
    }
   ],
   "source": [
    "# Find medications with the highest positive and negative price differences\n",
    "max_positive_diff = df[df['Price_Difference'] == df['Price_Difference'].max()]\n",
    "max_negative_diff = df[df['Price_Difference'] == df['Price_Difference'].min()]\n",
    "\n",
    "print(\"Medication with Highest Positive Price Difference:\")\n",
    "print(max_positive_diff)\n",
    "\n",
    "print(\"\\nMedication with Highest Negative Price Difference:\")\n",
    "print(max_negative_diff)\n"
   ]
  },
  {
   "cell_type": "markdown",
   "id": "fae7a412",
   "metadata": {},
   "source": [
    "\n",
    "**Medication with Highest Positive Price Difference:**\n",
    "- **Medication Name:** ASSIVAL 2MG 30TAB\n",
    "- **Package Size:** 30.0\n",
    "- **Max Retailer Price:** 3.63\n",
    "- **Max Consumer Price:** 4.97\n",
    "- **Max Consumer VAT Price:** 5.74\n",
    "- **Year:** 2007\n",
    "- **Price Difference:** -0.77\n",
    "  - This medication has a negative price difference, which means that the max consumer price is lower than the max consumer VAT price. The price difference is approximately $0.77.\n",
    "\n",
    "**Medication with Highest Negative Price Difference:**\n",
    "- **Medication Name:** ZEVALIN 1.6MG/ML COLD KIT\n",
    "- **Package Size:** 1.0\n",
    "- **Max Retailer Price:** 66550.74\n",
    "- **Max Consumer Price:** 78197.12\n",
    "- **Max Consumer VAT Price:** 90317.67\n",
    "- **Year:** 2007\n",
    "- **Price Difference:** -12120.55\n",
    "  - This medication has a large negative price difference, which means that the max consumer price is significantly lower than the max consumer VAT price. The price difference is approximately -$12,120.55.\n",
    "\n",
    "In both cases, the negative price difference indicates that the max consumer price is less than the max consumer VAT price. This could be due to various factors, such as VAT calculations, pricing regulations, or market dynamics affecting how these prices are set."
   ]
  },
  {
   "cell_type": "code",
   "execution_count": null,
   "id": "53349cd5",
   "metadata": {},
   "outputs": [],
   "source": []
  }
 ],
 "metadata": {
  "kernelspec": {
   "display_name": "Python 3 (ipykernel)",
   "language": "python",
   "name": "python3"
  },
  "language_info": {
   "codemirror_mode": {
    "name": "ipython",
    "version": 3
   },
   "file_extension": ".py",
   "mimetype": "text/x-python",
   "name": "python",
   "nbconvert_exporter": "python",
   "pygments_lexer": "ipython3",
   "version": "3.11.4"
  }
 },
 "nbformat": 4,
 "nbformat_minor": 5
}
